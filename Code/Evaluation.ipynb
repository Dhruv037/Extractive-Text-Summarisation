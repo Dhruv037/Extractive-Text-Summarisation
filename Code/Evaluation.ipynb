{
 "cells": [
  {
   "cell_type": "code",
   "execution_count": 1,
   "metadata": {},
   "outputs": [],
   "source": [
    "from rouge import FilesRouge\n",
    "from prettytable import PrettyTable\n",
    "import glob"
   ]
  },
  {
   "cell_type": "code",
   "execution_count": 2,
   "metadata": {},
   "outputs": [],
   "source": [
    "avg_F1_knn = 0\n",
    "avg_F1_log = 0\n",
    "avg_F1_nb = 0\n",
    "count = 0\n",
    "for ref in sorted(glob.glob(\"Evaluation/True/*.txt\")):\n",
    "    hyp_knn = \"Evaluation/Predicted/K-NN/\"+ref.split(\"/\")[2]\n",
    "    hyp_log = \"Evaluation/Predicted/Logistic/\"+ref.split(\"/\")[2]\n",
    "    hyp_nb = \"Evaluation/Predicted/NB/\"+ref.split(\"/\")[2]\n",
    "    \n",
    "    files_rouge_knn = FilesRouge(hyp_knn,ref)\n",
    "    score_knn = files_rouge_knn.get_scores()\n",
    "    avg_F1_knn += score_knn[0]['rouge-1']['f']\n",
    "    \n",
    "    files_rouge_log = FilesRouge(hyp_log,ref)\n",
    "    score_log = files_rouge_log.get_scores()\n",
    "    avg_F1_log += score_log[0]['rouge-1']['f']\n",
    "    \n",
    "    files_rouge_nb = FilesRouge(hyp_nb,ref)\n",
    "    score_nb = files_rouge_nb.get_scores()\n",
    "    avg_F1_nb += score_nb[0]['rouge-1']['f']\n",
    "    \n",
    "    count += 1"
   ]
  },
  {
   "cell_type": "code",
   "execution_count": 5,
   "metadata": {},
   "outputs": [
    {
     "name": "stdout",
     "output_type": "stream",
     "text": [
      "+----------------------+--------------------+\n",
      "|        Model         | Average F-Measure  |\n",
      "+----------------------+--------------------+\n",
      "| K-Nearest Neighbours | 0.775951582747121  |\n",
      "| Gaussian Naive Bayes | 0.7406700829597882 |\n",
      "| Logistic Regression  | 0.7397993248921582 |\n",
      "+----------------------+--------------------+\n"
     ]
    }
   ],
   "source": [
    "table = PrettyTable(['Model', 'Average F-Measure'])\n",
    "table.add_row(['K-Nearest Neighbours', avg_F1_knn/count])\n",
    "table.add_row(['Gaussian Naive Bayes', avg_F1_nb/count])\n",
    "table.add_row(['Logistic Regression', avg_F1_log/count])\n",
    "print (table)"
   ]
  },
  {
   "cell_type": "code",
   "execution_count": null,
   "metadata": {},
   "outputs": [],
   "source": []
  },
  {
   "cell_type": "code",
   "execution_count": null,
   "metadata": {},
   "outputs": [],
   "source": []
  },
  {
   "cell_type": "code",
   "execution_count": null,
   "metadata": {},
   "outputs": [],
   "source": []
  }
 ],
 "metadata": {
  "kernelspec": {
   "display_name": "Python 3",
   "language": "python",
   "name": "python3"
  },
  "language_info": {
   "codemirror_mode": {
    "name": "ipython",
    "version": 3
   },
   "file_extension": ".py",
   "mimetype": "text/x-python",
   "name": "python",
   "nbconvert_exporter": "python",
   "pygments_lexer": "ipython3",
   "version": "3.6.5"
  }
 },
 "nbformat": 4,
 "nbformat_minor": 2
}
