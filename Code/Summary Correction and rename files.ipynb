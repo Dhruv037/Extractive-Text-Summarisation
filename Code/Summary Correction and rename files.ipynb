{
 "cells": [
  {
   "cell_type": "code",
   "execution_count": 22,
   "metadata": {},
   "outputs": [],
   "source": [
    "from nltk import sent_tokenize as tkn\n",
    "from os import rename as rn\n",
    "import glob"
   ]
  },
  {
   "cell_type": "code",
   "execution_count": null,
   "metadata": {},
   "outputs": [],
   "source": [
    "counter = 368\n",
    "folders = [\"tech\"]\n",
    "for folder in folders:\n",
    "    paths = [] \n",
    "    for path in glob.glob(\"updated_data/techdata/*.txt\"):\n",
    "        paths.append(path)\n",
    "    paths.sort()\n",
    "    for path in paths:\n",
    "        #print(str(counter) + \" : \" + path)\n",
    "        rn(path,\"updated_data/techdata/\" + str(counter) + \".txt\")\n",
    "        counter += 1"
   ]
  },
  {
   "cell_type": "code",
   "execution_count": 84,
   "metadata": {},
   "outputs": [],
   "source": [
    "def summary_correction(file):\n",
    "    f = open(file, 'r')\n",
    "    data = f.read()\n",
    "    f.close()\n",
    "    new_data = ''\n",
    "    numbers = [str(i) for i in range(10)]\n",
    "    for i in range(len(data) - 1):\n",
    "        if data[i] != '.':\n",
    "            new_data += data[i]\n",
    "        else:\n",
    "            if data[i-1] == ' ' or data[i+1] == ' ':\n",
    "                new_data += data[i]\n",
    "            elif data[i-1] in numbers and data[i+1] in numbers:\n",
    "                new_data += data[i]\n",
    "            else:\n",
    "                new_data += data[i]\n",
    "                new_data += ' '\n",
    "    new_data += '.'\n",
    "    return new_data"
   ]
  },
  {
   "cell_type": "code",
   "execution_count": 96,
   "metadata": {},
   "outputs": [],
   "source": [
    "for path in glob.glob(\"updated_data/Test_Summ/*.txt\"):\n",
    "    data = summary_correction(path)\n",
    "    file = open(path,'w')\n",
    "    file.write(data)\n",
    "    file.close()"
   ]
  },
  {
   "cell_type": "code",
   "execution_count": null,
   "metadata": {},
   "outputs": [],
   "source": []
  }
 ],
 "metadata": {
  "kernelspec": {
   "display_name": "Python 3",
   "language": "python",
   "name": "python3"
  },
  "language_info": {
   "codemirror_mode": {
    "name": "ipython",
    "version": 3
   },
   "file_extension": ".py",
   "mimetype": "text/x-python",
   "name": "python",
   "nbconvert_exporter": "python",
   "pygments_lexer": "ipython3",
   "version": "3.6.5"
  }
 },
 "nbformat": 4,
 "nbformat_minor": 2
}
