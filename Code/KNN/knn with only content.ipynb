{
 "cells": [
  {
   "cell_type": "code",
   "execution_count": 1,
   "metadata": {},
   "outputs": [],
   "source": [
    "import pandas as pd\n",
    "import numpy as np\n",
    "import matplotlib.pyplot as plt\n",
    "import seaborn as sns\n",
    "from sklearn import preprocessing\n",
    "from sklearn.model_selection import cross_val_score\n",
    "from sklearn import metrics\n",
    "from sklearn.model_selection import GridSearchCV\n",
    "from sklearn.svm import SVC\n",
    "from sklearn.manifold import TSNE\n",
    "from sklearn import svm\n",
    "from sklearn.model_selection import cross_val_score\n",
    "import pickle\n",
    "from imblearn.over_sampling import SMOTE\n",
    "from sklearn.neighbors import KNeighborsClassifier as knn\n",
    "from imblearn.over_sampling import BorderlineSMOTE\n",
    "import collections\n",
    "from sklearn.externals import joblib\n",
    "from mlxtend.plotting import plot_decision_regions"
   ]
  },
  {
   "cell_type": "code",
   "execution_count": 2,
   "metadata": {},
   "outputs": [],
   "source": [
    "X_train=pd.read_excel(\"X_train.xlsx\")\n",
    "y_train=pd.read_excel(\"y_train.xlsx\")\n",
    "\n",
    "X_test=pd.read_excel(\"X_test.xlsx\")\n",
    "y_test=pd.read_excel(\"y_test.xlsx\")\n",
    "\n",
    "X_train_only_content = X_train.drop(['Para_First','Position','Length','Quote','Doc_First','FirstRel_Doc','FirstRel_Para','PageRankRel'],axis=1)\n",
    "X_test_only_content = X_test.drop(['Para_First','Position','Length','Quote','Doc_First','FirstRel_Doc','FirstRel_Para','PageRankRel'],axis=1)"
   ]
  },
  {
   "cell_type": "code",
   "execution_count": 3,
   "metadata": {},
   "outputs": [
    {
     "name": "stdout",
     "output_type": "stream",
     "text": [
      "(32615, 5)\n"
     ]
    },
    {
     "data": {
      "text/html": [
       "<div>\n",
       "<style scoped>\n",
       "    .dataframe tbody tr th:only-of-type {\n",
       "        vertical-align: middle;\n",
       "    }\n",
       "\n",
       "    .dataframe tbody tr th {\n",
       "        vertical-align: top;\n",
       "    }\n",
       "\n",
       "    .dataframe thead th {\n",
       "        text-align: right;\n",
       "    }\n",
       "</style>\n",
       "<table border=\"1\" class=\"dataframe\">\n",
       "  <thead>\n",
       "    <tr style=\"text-align: right;\">\n",
       "      <th></th>\n",
       "      <th>CentroidVar_Uni</th>\n",
       "      <th>CentroidVar_Bi</th>\n",
       "      <th>FreqWord_Uni</th>\n",
       "      <th>FreqWord_Bi</th>\n",
       "      <th>SigTerm_Uni</th>\n",
       "    </tr>\n",
       "  </thead>\n",
       "  <tbody>\n",
       "    <tr>\n",
       "      <th>0</th>\n",
       "      <td>0.247286</td>\n",
       "      <td>0.345769</td>\n",
       "      <td>0.811746</td>\n",
       "      <td>1.000000</td>\n",
       "      <td>0.802003</td>\n",
       "    </tr>\n",
       "    <tr>\n",
       "      <th>1</th>\n",
       "      <td>0.273988</td>\n",
       "      <td>0.370171</td>\n",
       "      <td>0.803571</td>\n",
       "      <td>1.000000</td>\n",
       "      <td>0.000000</td>\n",
       "    </tr>\n",
       "    <tr>\n",
       "      <th>2</th>\n",
       "      <td>0.312076</td>\n",
       "      <td>0.431832</td>\n",
       "      <td>0.562169</td>\n",
       "      <td>0.916667</td>\n",
       "      <td>0.000000</td>\n",
       "    </tr>\n",
       "    <tr>\n",
       "      <th>3</th>\n",
       "      <td>0.264028</td>\n",
       "      <td>0.368563</td>\n",
       "      <td>0.842308</td>\n",
       "      <td>1.000000</td>\n",
       "      <td>0.802003</td>\n",
       "    </tr>\n",
       "    <tr>\n",
       "      <th>4</th>\n",
       "      <td>0.350765</td>\n",
       "      <td>0.481579</td>\n",
       "      <td>0.718750</td>\n",
       "      <td>1.000000</td>\n",
       "      <td>0.000000</td>\n",
       "    </tr>\n",
       "  </tbody>\n",
       "</table>\n",
       "</div>"
      ],
      "text/plain": [
       "   CentroidVar_Uni  CentroidVar_Bi  FreqWord_Uni  FreqWord_Bi  SigTerm_Uni\n",
       "0         0.247286        0.345769      0.811746     1.000000     0.802003\n",
       "1         0.273988        0.370171      0.803571     1.000000     0.000000\n",
       "2         0.312076        0.431832      0.562169     0.916667     0.000000\n",
       "3         0.264028        0.368563      0.842308     1.000000     0.802003\n",
       "4         0.350765        0.481579      0.718750     1.000000     0.000000"
      ]
     },
     "execution_count": 3,
     "metadata": {},
     "output_type": "execute_result"
    }
   ],
   "source": [
    "print(X_train_only_content.shape)\n",
    "X_train_only_content.head()"
   ]
  },
  {
   "cell_type": "code",
   "execution_count": 4,
   "metadata": {},
   "outputs": [
    {
     "name": "stderr",
     "output_type": "stream",
     "text": [
      "C:\\ProgramData\\Anaconda3\\lib\\site-packages\\sklearn\\utils\\validation.py:752: DataConversionWarning: A column-vector y was passed when a 1d array was expected. Please change the shape of y to (n_samples, ), for example using ravel().\n",
      "  y = column_or_1d(y, warn=True)\n"
     ]
    }
   ],
   "source": [
    "sm = BorderlineSMOTE(random_state=12,sampling_strategy='minority',n_jobs=-1)\n",
    "x_train_res, y_train_res = sm.fit_sample(X_train_only_content, y_train)"
   ]
  },
  {
   "cell_type": "code",
   "execution_count": 5,
   "metadata": {},
   "outputs": [
    {
     "data": {
      "text/plain": [
       "Counter({1: 20252, 0: 20252})"
      ]
     },
     "execution_count": 5,
     "metadata": {},
     "output_type": "execute_result"
    }
   ],
   "source": [
    "collections.Counter(y_train_res)"
   ]
  },
  {
   "cell_type": "code",
   "execution_count": 6,
   "metadata": {},
   "outputs": [
    {
     "name": "stdout",
     "output_type": "stream",
     "text": [
      "MinMaxScaler(copy=True, feature_range=(0, 1))\n"
     ]
    }
   ],
   "source": [
    "scaler = preprocessing.MinMaxScaler()\n",
    "print(scaler.fit(X_train_only_content))\n",
    "X_train_only_content=scaler.transform(x_train_res)\n",
    "\n",
    "X_test_only_content=scaler.transform(X_test_only_content)\n",
    "\n",
    "y_train_res=np.array(y_train_res)\n",
    "y_test=np.array(y_test)"
   ]
  },
  {
   "cell_type": "code",
   "execution_count": 7,
   "metadata": {},
   "outputs": [],
   "source": [
    "# tuned_parameters = [{'C': [10**-4, 10**-2, 10**0, 10**2, 10**4]}]\n",
    "# model=GridSearchCV(svm.SVC(), tuned_parameters,  cv=5,scoring=\"f1\",n_jobs=-1)\n",
    "\n",
    "# # model=svm.SVC(kernel='rbf')\n",
    "# model.fit(x_train_res, y_train_res)\n",
    "train_scores=[]\n",
    "test_scores=[]\n",
    "neighbors = list(range(1,100))\n",
    "for i in neighbors:\n",
    "    model = knn(n_neighbors=i)\n",
    "#     model.fit(x_train_res, y_train_res)\n",
    "    scores_train = cross_val_score(model, X_train_only_content, y_train_res.ravel(), cv=5)\n",
    "    score_mean=np.mean(scores_train)\n",
    "    train_scores.append(score_mean)\n",
    "    \n",
    "    scores_test = cross_val_score(model, X_test_only_content, y_test.ravel(), cv=5)\n",
    "    score_mean_test=np.mean(scores_test)\n",
    "    test_scores.append(score_mean_test)\n",
    "    "
   ]
  },
  {
   "cell_type": "code",
   "execution_count": 16,
   "metadata": {},
   "outputs": [
    {
     "data": {
      "image/png": "[encoded data removed]",
      "text/plain": [
       "<Figure size 432x288 with 1 Axes>"
      ]
     },
     "metadata": {},
     "output_type": "display_data"
    }
   ],
   "source": [
    "plt.plot(train_scores,label='Validation Accuracy')\n",
    "plt.plot(test_scores,label='Test Accuracy')\n",
    "plt.title(\"Cross Validation Results Of Knn With Only Content Features\")\n",
    "plt.legend()\n",
    "plt.show()"
   ]
  },
  {
   "cell_type": "code",
   "execution_count": 9,
   "metadata": {},
   "outputs": [
    {
     "data": {
      "text/plain": [
       "KNeighborsClassifier(algorithm='auto', leaf_size=30, metric='minkowski',\n",
       "           metric_params=None, n_jobs=None, n_neighbors=75, p=2,\n",
       "           weights='uniform')"
      ]
     },
     "execution_count": 9,
     "metadata": {},
     "output_type": "execute_result"
    }
   ],
   "source": [
    "final_model=knn(n_neighbors=75)\n",
    "final_model.fit(X_train_only_content, y_train_res.ravel())"
   ]
  },
  {
   "cell_type": "code",
   "execution_count": 12,
   "metadata": {},
   "outputs": [],
   "source": [
    "y_cap = final_model.predict(X_test_only_content)"
   ]
  },
  {
   "cell_type": "code",
   "execution_count": 13,
   "metadata": {},
   "outputs": [
    {
     "data": {
      "text/plain": [
       "0.6369584001975065"
      ]
     },
     "execution_count": 13,
     "metadata": {},
     "output_type": "execute_result"
    }
   ],
   "source": [
    "metrics.f1_score(y_cap,y_test)"
   ]
  },
  {
   "cell_type": "code",
   "execution_count": 14,
   "metadata": {},
   "outputs": [
    {
     "data": {
      "text/plain": [
       "0.6594093804284887"
      ]
     },
     "execution_count": 14,
     "metadata": {},
     "output_type": "execute_result"
    }
   ],
   "source": [
    "metrics.accuracy_score(y_cap,y_test)"
   ]
  },
  {
   "cell_type": "code",
   "execution_count": 15,
   "metadata": {},
   "outputs": [
    {
     "data": {
      "text/plain": [
       "array([[3114, 2265],\n",
       "       [ 676, 2580]], dtype=int64)"
      ]
     },
     "execution_count": 15,
     "metadata": {},
     "output_type": "execute_result"
    }
   ],
   "source": [
    "metrics.confusion_matrix(y_test,y_cap)"
   ]
  },
  {
   "cell_type": "code",
   "execution_count": null,
   "metadata": {},
   "outputs": [],
   "source": []
  }
 ],
 "metadata": {
  "kernelspec": {
   "display_name": "Python 3",
   "language": "python",
   "name": "python3"
  },
  "language_info": {
   "codemirror_mode": {
    "name": "ipython",
    "version": 3
   },
   "file_extension": ".py",
   "mimetype": "text/x-python",
   "name": "python",
   "nbconvert_exporter": "python",
   "pygments_lexer": "ipython3",
   "version": "3.6.5"
  }
 },
 "nbformat": 4,
 "nbformat_minor": 2
}
